{
 "cells": [
  {
   "cell_type": "code",
   "execution_count": 2,
   "id": "9d9d4049-91e4-4e9b-bad8-7892399cd221",
   "metadata": {},
   "outputs": [],
   "source": [
    "import nltk\n",
    "from nltk.corpus import wordnet\n",
    "import random\n",
    "from nltk.corpus import words"
   ]
  },
  {
   "cell_type": "code",
   "execution_count": 65,
   "id": "c0575b70-e94a-4983-889e-1b5fac3345cd",
   "metadata": {},
   "outputs": [
    {
     "name": "stdout",
     "output_type": "stream",
     "text": [
      "wo\n"
     ]
    }
   ],
   "source": [
    "def random_func(num_of_letters = 4):\n",
    "    while True:\n",
    "        all_words = list(words.words())\n",
    "        random_word = random.choice(all_words)\n",
    "        length = len(random_word)\n",
    "        if length <= num_of_letters:\n",
    "            break\n",
    "    return random_word\n",
    "\n",
    "x = random_func()\n",
    "print(x)\n"
   ]
  },
  {
   "cell_type": "code",
   "execution_count": 59,
   "id": "3475d0a5-f150-4448-b1f4-4e00b06a62e4",
   "metadata": {
    "scrolled": true
   },
   "outputs": [],
   "source": [
    "# getting all possible combination of a word\n",
    "import math\n",
    "import time\n",
    "\n",
    "def possible_combinations(word):\n",
    "    w = word\n",
    "    count = len(w)\n",
    "    partial_bank = []\n",
    "    main_bank = {}\n",
    "    main_bank_count = 0\n",
    "    fac = math.factorial(count)\n",
    "    |\n",
    "    while main_bank_count != fac:\n",
    "        ran = random.sample(w,count)\n",
    "        gen_word = \"\".join(ran)\n",
    "        # print(gen_word)\n",
    "    \n",
    "        partial_bank.append(gen_word)\n",
    "        main_bank = set(partial_bank)\n",
    "        unique_words = len(main_bank)\n",
    "        # print(f'-----Unique words {unique_words}')\n",
    "        main_bank_count = len(main_bank)\n",
    "        # time.sleep(0.1)\n",
    "    \n",
    "    # print('number of unique words', main_bank_count)\n",
    "    return list(main_bank)"
   ]
  },
  {
   "cell_type": "code",
   "execution_count": 72,
   "id": "106fa9fe-739e-4c75-a633-d809675abe45",
   "metadata": {},
   "outputs": [],
   "source": [
    "# function for checking if a word is present in the dic\n",
    "def validator(x):\n",
    "    the_list = x\n",
    "    meaningful_words = []\n",
    "    for i in the_list:\n",
    "        if wordnet.synsets(i):\n",
    "            meaningful_words.append(i)\n",
    "    return meaningful_words\n",
    "            \n",
    "    "
   ]
  },
  {
   "cell_type": "code",
   "execution_count": 77,
   "id": "c58331a7-e91f-48e4-87dd-7055d928ffba",
   "metadata": {},
   "outputs": [
    {
     "name": "stdout",
     "output_type": "stream",
     "text": [
      "random_word:mora\n",
      "all possible combination: ['oamr', 'rmoa', 'omar', 'mora', 'armo', 'mrao', 'oram', 'omra', 'maro', 'amro', 'arom', 'amor', 'orma', 'aorm', 'raom', 'roma', 'maor', 'ramo', 'roam', 'mroa', 'oarm', 'rmao', 'moar', 'aomr']\n"
     ]
    }
   ],
   "source": [
    "w = random_func()\n",
    "print(f'random_word:{w}')\n",
    "combo = possible_combinations(w)\n",
    "print(f'all possible combination: {combo}')\n"
   ]
  },
  {
   "cell_type": "code",
   "execution_count": 78,
   "id": "d79af26f-26b1-4341-a680-4cfb984e84be",
   "metadata": {},
   "outputs": [
    {
     "name": "stdout",
     "output_type": "stream",
     "text": [
      "-------------------------------------------\n",
      "['amor', 'roma', 'roam']\n"
     ]
    }
   ],
   "source": [
    "meaningful_words = validator(combo)\n",
    "print('-------------------------------------------')\n",
    "print(meaningful_words)"
   ]
  }
 ],
 "metadata": {
  "kernelspec": {
   "display_name": "Python 3 (ipykernel)",
   "language": "python",
   "name": "python3"
  },
  "language_info": {
   "codemirror_mode": {
    "name": "ipython",
    "version": 3
   },
   "file_extension": ".py",
   "mimetype": "text/x-python",
   "name": "python",
   "nbconvert_exporter": "python",
   "pygments_lexer": "ipython3",
   "version": "3.13.6"
  }
 },
 "nbformat": 4,
 "nbformat_minor": 5
}
