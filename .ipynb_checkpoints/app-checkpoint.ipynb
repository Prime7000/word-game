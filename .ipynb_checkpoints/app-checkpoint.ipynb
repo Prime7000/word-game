{
 "cells": [
  {
   "cell_type": "code",
   "execution_count": 124,
   "id": "9d9d4049-91e4-4e9b-bad8-7892399cd221",
   "metadata": {},
   "outputs": [],
   "source": [
    "import nltk\n",
    "from nltk.corpus import wordnet\n",
    "import random\n",
    "from nltk.corpus import words\n",
    "import math\n",
    "import time"
   ]
  },
  {
   "cell_type": "code",
   "execution_count": 107,
   "id": "c0575b70-e94a-4983-889e-1b5fac3345cd",
   "metadata": {},
   "outputs": [
    {
     "name": "stdout",
     "output_type": "stream",
     "text": [
      "typr\n"
     ]
    }
   ],
   "source": [
    "def random_func(num_of_letters = 4):\n",
    "    while True:\n",
    "        all_words = list(words.words())\n",
    "        random_word = random.choice(all_words)\n",
    "        length = len(random_word)\n",
    "        if length <= num_of_letters:\n",
    "            break\n",
    "    random_word = random.sample(list(random_word),len(random_word))\n",
    "    random_word = \"\".join(random_word)\n",
    "    return random_word\n",
    "\n",
    "# x = random_func()\n",
    "# print(x)\n"
   ]
  },
  {
   "cell_type": "code",
   "execution_count": 132,
   "id": "3475d0a5-f150-4448-b1f4-4e00b06a62e4",
   "metadata": {
    "scrolled": true
   },
   "outputs": [],
   "source": [
    "def possible_combinations(word,fac,count):\n",
    "    w = word\n",
    "    # count = len(w)\n",
    "    partial_bank = []\n",
    "    main_bank = {}\n",
    "    main_bank_count = 0\n",
    "    # fac = math.factorial(count)\n",
    "    \n",
    "    while main_bank_count != fac:\n",
    "        ran = random.sample(w,count)\n",
    "        gen_word = \"\".join(ran).lower()\n",
    "        # print(gen_word)\n",
    "    \n",
    "        partial_bank.append(gen_word)\n",
    "        main_bank = set(partial_bank)\n",
    "        unique_words = len(main_bank)\n",
    "        # print(f'-----Unique words {unique_words}')\n",
    "        main_bank_count = len(main_bank)\n",
    "        # time.sleep(0.1)\n",
    "    \n",
    "    # print('number of unique words', main_bank_count)\n",
    "    return list(main_bank)"
   ]
  },
  {
   "cell_type": "code",
   "execution_count": 111,
   "id": "56dfcbf0-9e79-4103-97a0-e3847972188a",
   "metadata": {},
   "outputs": [],
   "source": [
    "# all possible combinations\n",
    "def all_possible_combinations(w):\n",
    "    word = w\n",
    "    l = len(word)\n",
    "    total_words = []\n",
    "    num_of_words = 2 #start predicting from two letter words\n",
    "    for i in range(num_of_words,l+1):\n",
    "        perm = math.perm(len(word),i)\n",
    "        # print(perm,f'perm of {i}')\n",
    "        pc = possible_combinations(word,perm,i)\n",
    "        total_words = total_words + pc\n",
    "    return total_words\n",
    "        \n",
    "\n",
    "# all_possible_combinations(x)"
   ]
  },
  {
   "cell_type": "code",
   "execution_count": 26,
   "id": "106fa9fe-739e-4c75-a633-d809675abe45",
   "metadata": {},
   "outputs": [],
   "source": [
    "# function for checking if a word is present in the dic\n",
    "def validator(x):\n",
    "    the_list = x\n",
    "    meaningful_words = []\n",
    "    for i in the_list:\n",
    "        if wordnet.synsets(i):\n",
    "            meaningful_words.append(i)\n",
    "    return meaningful_words\n",
    "            \n",
    "    "
   ]
  },
  {
   "cell_type": "code",
   "execution_count": 133,
   "id": "c58331a7-e91f-48e4-87dd-7055d928ffba",
   "metadata": {},
   "outputs": [
    {
     "name": "stdout",
     "output_type": "stream",
     "text": [
      "random_word:bufl\n",
      "all possible combination: ['fu', 'ub', 'ul', 'lf', 'fl', 'lb', 'bu', 'lu', 'uf', 'bf', 'fb', 'bl', 'ubf', 'luf', 'ufl', 'ubl', 'bfu', 'fbl', 'lfb', 'flb', 'blu', 'flu', 'fub', 'lub', 'ulf', 'ufb', 'blf', 'bfl', 'fbu', 'lfu', 'lbu', 'lbf', 'bul', 'ful', 'ulb', 'buf', 'fulb', 'uflb', 'bflu', 'lfub', 'flbu', 'ufbl', 'bluf', 'ubfl', 'bful', 'bufl', 'lfbu', 'ulfb', 'fubl', 'fblu', 'fbul', 'lubf', 'flub', 'ublf', 'ulbf', 'bulf', 'blfu', 'lbuf', 'lufb', 'lbfu']\n",
      "-------------------------------------------\n",
      "['lf', 'fl', 'lb', 'lu', 'flu', 'ful', 'flub']\n",
      "\n",
      "    \n",
      "Derive 4 words from this word bufl\n"
     ]
    },
    {
     "name": "stdin",
     "output_type": "stream",
     "text": [
      "Insert derived words:  lb\n"
     ]
    },
    {
     "name": "stdout",
     "output_type": "stream",
     "text": [
      "--correct you have answered 1 out of 4\n"
     ]
    },
    {
     "name": "stdin",
     "output_type": "stream",
     "text": [
      "Insert derived words:  flu\n"
     ]
    },
    {
     "name": "stdout",
     "output_type": "stream",
     "text": [
      "--correct you have answered 2 out of 4\n"
     ]
    },
    {
     "name": "stdin",
     "output_type": "stream",
     "text": [
      "Insert derived words:  flub\n"
     ]
    },
    {
     "name": "stdout",
     "output_type": "stream",
     "text": [
      "--correct you have answered 3 out of 4\n"
     ]
    },
    {
     "name": "stdin",
     "output_type": "stream",
     "text": [
      "Insert derived words:  lf\n"
     ]
    },
    {
     "name": "stdout",
     "output_type": "stream",
     "text": [
      "--correct you have answered 4 out of 4\n"
     ]
    },
    {
     "name": "stdin",
     "output_type": "stream",
     "text": [
      "Do you want to keep playing yes/no?  no\n"
     ]
    },
    {
     "name": "stdout",
     "output_type": "stream",
     "text": [
      "______Game ended____\n",
      "you played 0 sections\n"
     ]
    }
   ],
   "source": [
    "total_questions_asked = 1\n",
    "\n",
    "while True:\n",
    "    w = random_func()\n",
    "    # print(f'random_word:{w}')\n",
    "    combo = all_possible_combinations(w)\n",
    "    # print(f'all possible combination: {combo}')\n",
    "    meaningful_words = validator(combo)\n",
    "    print('-------------------------------------------')\n",
    "    # print(meaningful_words)\n",
    "    \n",
    "    #making sure the algorithm does not tell you\n",
    "    # to insert more than the possible combination available\n",
    "    \n",
    "    count_meaningful_words = len(meaningful_words)\n",
    "    print('''\n",
    "    ''')\n",
    "    human_ans = []\n",
    "    num_of_predictions = 4 #number of words users must predict\n",
    "    if count_meaningful_words >= num_of_predictions:\n",
    "        print(f'Derive 4 words from this word {w}')\n",
    "        questions_answered = 0\n",
    "        while True:\n",
    "            human_feedback = input('Insert derived words: ').lower()\n",
    "            if human_feedback in meaningful_words and human_feedback not in human_ans:\n",
    "                human_ans.append(human_feedback)\n",
    "    \n",
    "                questions_answered = questions_answered + 1\n",
    "                print(f'--correct you have answered {questions_answered} out of {num_of_predictions}')\n",
    "    \n",
    "                if len(human_ans) == num_of_predictions:\n",
    "                    break\n",
    "            else:\n",
    "                print('----wrong-----')\n",
    "    else:\n",
    "        print(f'Derive {len(count_meaningful_words)} words from this word {w}')\n",
    "\n",
    "    end_ = input('Do you want to keep playing yes/no? ').lower()\n",
    "    if end_ == 'yes':\n",
    "        pass\n",
    "    elif end_ == 'no':\n",
    "        break\n",
    "    else:\n",
    "        print('invalid input')\n",
    "\n",
    "    total_questions_asked = total_questions_asked + 1\n",
    "\n",
    "print('______Game ended____')\n",
    "print(f'you played {total_questions_asked} sections')\n",
    "        \n",
    "        "
   ]
  },
  {
   "cell_type": "code",
   "execution_count": 38,
   "id": "d79af26f-26b1-4341-a680-4cfb984e84be",
   "metadata": {},
   "outputs": [
    {
     "name": "stdout",
     "output_type": "stream",
     "text": [
      "-------------------------------------------\n",
      "['tope', 'poet']\n"
     ]
    }
   ],
   "source": []
  }
 ],
 "metadata": {
  "kernelspec": {
   "display_name": "Python 3 (ipykernel)",
   "language": "python",
   "name": "python3"
  },
  "language_info": {
   "codemirror_mode": {
    "name": "ipython",
    "version": 3
   },
   "file_extension": ".py",
   "mimetype": "text/x-python",
   "name": "python",
   "nbconvert_exporter": "python",
   "pygments_lexer": "ipython3",
   "version": "3.13.6"
  }
 },
 "nbformat": 4,
 "nbformat_minor": 5
}
