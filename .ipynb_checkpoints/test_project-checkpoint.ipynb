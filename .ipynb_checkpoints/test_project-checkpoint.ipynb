{
  "nbformat": 4,
  "nbformat_minor": 0,
  "metadata": {
    "colab": {
      "private_outputs": true,
      "provenance": []
    },
    "kernelspec": {
      "name": "python3",
      "display_name": "Python 3"
    },
    "language_info": {
      "name": "python"
    }
  },
  "cells": [
    {
      "cell_type": "code",
      "execution_count": null,
      "metadata": {
        "id": "govaZf2XxWvK"
      },
      "outputs": [],
      "source": [
        "!pip install nltk\n"
      ]
    },
    {
      "cell_type": "code",
      "source": [
        "import nltk\n",
        "\n",
        "nltk.download(\"wordnet\")\n",
        "nltk.download('omw-1.4')\n"
      ],
      "metadata": {
        "id": "1zHpehNexxMR"
      },
      "execution_count": null,
      "outputs": []
    },
    {
      "cell_type": "code",
      "source": [
        "# getting raw definition, examples and the synonyms\n",
        "from nltk.corpus import wordnet\n",
        "\n",
        "for syn in wordnet.synsets(\"dress\"):\n",
        "\n",
        "  print(\"word :\",syn.name())\n",
        "  print(\"definition :\",syn.definition())\n",
        "  print(\"example :\",syn.examples())\n",
        "  print()\n",
        "\n",
        "\"\"\"\n",
        "synonyms=[]\n",
        "for syn in wordnet.synsets(\"fearful\"):\n",
        "  for syn in syn.lemmas():\n",
        "\n",
        "    synonyms.append(syn.name())\n",
        "\n",
        "print(set(synonyms))\n",
        "\n",
        "\"\"\""
      ],
      "metadata": {
        "id": "ONZha2Kn0Gym"
      },
      "execution_count": null,
      "outputs": []
    },
    {
      "cell_type": "code",
      "source": [
        "# getting antonyms relating to a word\n",
        "from nltk.corpus import wordnet\n",
        "\n",
        "antonyms=[]\n",
        "for syn in wordnet.synsets(\"unique\"):\n",
        "  for lemma in syn.lemmas():\n",
        "    antonyms.append(lemma.name())\n",
        "\n",
        "print(set(antonyms))"
      ],
      "metadata": {
        "id": "2VwVh_Rv328R"
      },
      "execution_count": null,
      "outputs": []
    },
    {
      "cell_type": "code",
      "metadata": {
        "id": "ca2f2409"
      },
      "source": [
        "import nltk\n",
        "nltk.download(\"wordnet\")"
      ],
      "execution_count": null,
      "outputs": []
    },
    {
      "cell_type": "code",
      "source": [
        "#objective for these program using wordnet\n",
        "#give its a word and get a single definition for that word\n",
        "\n",
        "\n",
        "from nltk.corpus import wordnet\n",
        "w = input(\"enter a word :\")\n",
        "synsets=list\n",
        "synsets=wordnet.synsets(w)\n",
        "first_meaning=synsets[0]\n",
        "meaning=first_meaning.definition()\n",
        "print(meaning)"
      ],
      "metadata": {
        "id": "QEviGoB78zMq"
      },
      "execution_count": null,
      "outputs": []
    },
    {
      "cell_type": "code",
      "source": [
        "from nltk.corpus import wordnet\n",
        "def word(w):\n",
        "  synsets=list\n",
        "  synsets=wordnet.synsets(w)\n",
        "  first_meaning=synsets[0]\n",
        "  meaning=first_meaning.definition()\n",
        "  return meaning\n",
        "\n",
        "\n",
        "word('cat')"
      ],
      "metadata": {
        "id": "FnQSuMVzJHfY"
      },
      "execution_count": null,
      "outputs": []
    },
    {
      "cell_type": "code",
      "source": [
        "x = word('rice')\n",
        "print(x)"
      ],
      "metadata": {
        "id": "YxeS8B5NMuiL"
      },
      "execution_count": null,
      "outputs": []
    },
    {
      "cell_type": "code",
      "source": [
        "# checking if a word is present in the dictionary or not\n",
        "from nltk.corpus import wordnet\n",
        "\n",
        "word = 'true'\n",
        "if wordnet.synsets(word):\n",
        "  print(\"present\")\n",
        "else:\n",
        "  print(\"not present\")"
      ],
      "metadata": {
        "id": "OkWECzG_RnLg"
      },
      "execution_count": null,
      "outputs": []
    },
    {
      "cell_type": "code",
      "source": [
        "from nltk.corpus import wordnet\n",
        "\n",
        "# Ask the user for a word\n",
        "k = input(\"Enter a word: \")\n",
        "\n",
        "# Empty list to store synonyms\n",
        "synonyms = []\n",
        "\n",
        "# Loop through all synsets of the word\n",
        "for syn in wordnet.synsets(k):\n",
        "    for lemma in syn.lemmas():          # .lemmas() does NOT take an argument\n",
        "        synonyms.append(lemma.name())   # collect the synonym\n",
        "\n",
        "# Remove duplicates with set(), and get only a particular range\n",
        "result = list(set(synonyms))            # convert set back to list\n",
        "print(result[0:4])                      # get synonyms from index 1 to 3\n"
      ],
      "metadata": {
        "id": "PC4svWGHiLG8"
      },
      "execution_count": null,
      "outputs": []
    }
  ]
}