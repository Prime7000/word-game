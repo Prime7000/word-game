{
 "cells": [
  {
   "cell_type": "code",
   "execution_count": 1,
   "metadata": {
    "id": "1zHpehNexxMR"
   },
   "outputs": [
    {
     "name": "stderr",
     "output_type": "stream",
     "text": [
      "[nltk_data] Downloading package wordnet to\n",
      "[nltk_data]     /home/lunafirex/nltk_data...\n",
      "[nltk_data] Downloading package omw-1.4 to\n",
      "[nltk_data]     /home/lunafirex/nltk_data...\n"
     ]
    },
    {
     "data": {
      "text/plain": [
       "True"
      ]
     },
     "execution_count": 1,
     "metadata": {},
     "output_type": "execute_result"
    }
   ],
   "source": [
    "import nltk\n",
    "\n",
    "nltk.download(\"wordnet\")\n",
    "nltk.download('omw-1.4')\n"
   ]
  },
  {
   "cell_type": "code",
   "execution_count": 2,
   "metadata": {
    "id": "ONZha2Kn0Gym"
   },
   "outputs": [
    {
     "name": "stdout",
     "output_type": "stream",
     "text": [
      "word : dress.n.01\n",
      "definition : a one-piece garment for a woman; has skirt and bodice\n",
      "example : []\n",
      "\n",
      "word : attire.n.01\n",
      "definition : clothing of a distinctive style or for a particular occasion\n",
      "example : ['formal attire', 'battle dress']\n",
      "\n",
      "word : apparel.n.01\n",
      "definition : clothing in general\n",
      "example : ['she was refined in her choice of apparel', 'he always bought his clothes at the same store', 'fastidious about his dress']\n",
      "\n",
      "word : dress.v.01\n",
      "definition : put on clothes\n",
      "example : ['we had to dress quickly', 'dress the patient', 'Can the child dress by herself?']\n",
      "\n",
      "word : dress.v.02\n",
      "definition : provide with clothes or put clothes on\n",
      "example : ['Parents must feed and dress their child']\n",
      "\n",
      "word : dress.v.03\n",
      "definition : put a finish on\n",
      "example : ['dress the surface smooth']\n",
      "\n",
      "word : dress.v.04\n",
      "definition : dress in a certain manner\n",
      "example : ['She dresses in the latest Paris fashion', 'he dressed up in a suit and tie']\n",
      "\n",
      "word : preen.v.03\n",
      "definition : dress or groom with elaborate care\n",
      "example : ['She likes to dress when going to the opera']\n",
      "\n",
      "word : dress.v.06\n",
      "definition : kill and prepare for market or consumption\n",
      "example : ['dress a turkey']\n",
      "\n",
      "word : dress.v.07\n",
      "definition : arrange in ranks\n",
      "example : ['dress troops']\n",
      "\n",
      "word : trim.v.06\n",
      "definition : decorate (food), as with parsley or other ornamental foods\n",
      "example : []\n",
      "\n",
      "word : dress.v.09\n",
      "definition : provide with decoration\n",
      "example : ['dress the windows']\n",
      "\n",
      "word : dress.v.10\n",
      "definition : put a dressing on\n",
      "example : ['dress the salads']\n",
      "\n",
      "word : snip.v.02\n",
      "definition : cultivate, tend, and cut back the growth of\n",
      "example : ['dress the plants in the garden']\n",
      "\n",
      "word : dress.v.12\n",
      "definition : cut down rough-hewn (lumber) to standard thickness and width\n",
      "example : []\n",
      "\n",
      "word : dress.v.13\n",
      "definition : convert into leather\n",
      "example : ['dress the tanned skins']\n",
      "\n",
      "word : dress.v.14\n",
      "definition : apply a bandage or medication to\n",
      "example : [\"dress the victim's wounds\"]\n",
      "\n",
      "word : dress.v.15\n",
      "definition : give a neat appearance to\n",
      "example : ['groom the dogs', 'dress the horses']\n",
      "\n",
      "word : dress.v.16\n",
      "definition : arrange attractively\n",
      "example : ['dress my hair for the wedding']\n",
      "\n",
      "word : full-dress.s.01\n",
      "definition : suitable for formal occasions\n",
      "example : ['formal wear', 'a full-dress uniform', 'dress shoes']\n",
      "\n",
      "word : dress.s.02\n",
      "definition : (of an occasion) requiring formal clothes\n",
      "example : ['a dress dinner', 'a full-dress ceremony']\n",
      "\n"
     ]
    },
    {
     "data": {
      "text/plain": [
       "'\\nsynonyms=[]\\nfor syn in wordnet.synsets(\"fearful\"):\\n  for syn in syn.lemmas():\\n\\n    synonyms.append(syn.name())\\n\\nprint(set(synonyms))\\n\\n'"
      ]
     },
     "execution_count": 2,
     "metadata": {},
     "output_type": "execute_result"
    }
   ],
   "source": [
    "# getting raw definition, examples and the synonyms\n",
    "from nltk.corpus import wordnet\n",
    "\n",
    "for syn in wordnet.synsets(\"dress\"):\n",
    "\n",
    "  print(\"word :\",syn.name())\n",
    "  print(\"definition :\",syn.definition())\n",
    "  print(\"example :\",syn.examples())\n",
    "  print()\n",
    "\n",
    "\"\"\"\n",
    "synonyms=[]\n",
    "for syn in wordnet.synsets(\"fearful\"):\n",
    "  for syn in syn.lemmas():\n",
    "\n",
    "    synonyms.append(syn.name())\n",
    "\n",
    "print(set(synonyms))\n",
    "\n",
    "\"\"\""
   ]
  },
  {
   "cell_type": "code",
   "execution_count": 3,
   "metadata": {
    "id": "2VwVh_Rv328R"
   },
   "outputs": [
    {
     "name": "stdout",
     "output_type": "stream",
     "text": [
      "{'unique', 'singular', 'unequalled', 'unparalleled', 'alone', 'unequaled'}\n"
     ]
    }
   ],
   "source": [
    "# getting antonyms relating to a word\n",
    "from nltk.corpus import wordnet\n",
    "\n",
    "antonyms=[]\n",
    "for syn in wordnet.synsets(\"unique\"):\n",
    "  for lemma in syn.lemmas():\n",
    "    antonyms.append(lemma.name())\n",
    "\n",
    "print(set(antonyms))"
   ]
  },
  {
   "cell_type": "code",
   "execution_count": 4,
   "metadata": {
    "id": "ca2f2409"
   },
   "outputs": [
    {
     "name": "stderr",
     "output_type": "stream",
     "text": [
      "[nltk_data] Downloading package wordnet to\n",
      "[nltk_data]     /home/lunafirex/nltk_data...\n",
      "[nltk_data]   Package wordnet is already up-to-date!\n"
     ]
    },
    {
     "data": {
      "text/plain": [
       "True"
      ]
     },
     "execution_count": 4,
     "metadata": {},
     "output_type": "execute_result"
    }
   ],
   "source": [
    "import nltk\n",
    "nltk.download(\"wordnet\")"
   ]
  },
  {
   "cell_type": "code",
   "execution_count": 7,
   "metadata": {
    "id": "QEviGoB78zMq"
   },
   "outputs": [
    {
     "name": "stdin",
     "output_type": "stream",
     "text": [
      "enter a word : deborah\n"
     ]
    },
    {
     "name": "stdout",
     "output_type": "stream",
     "text": [
      "word does not exist\n"
     ]
    }
   ],
   "source": [
    "#objective for these program using wordnet\n",
    "#give its a word and get a single definition for that word\n",
    "\n",
    "\n",
    "from nltk.corpus import wordnet\n",
    "try:\n",
    "    w = input(\"enter a word :\")\n",
    "    synsets=list\n",
    "    synsets=wordnet.synsets(w)\n",
    "    first_meaning=synsets[0]\n",
    "    meaning=first_meaning.definition()\n",
    "    print(meaning)\n",
    "except:\n",
    "    print('word does not exist')"
   ]
  },
  {
   "cell_type": "code",
   "execution_count": 10,
   "metadata": {
    "id": "FnQSuMVzJHfY"
   },
   "outputs": [
    {
     "data": {
      "text/plain": [
       "'word does not exist'"
      ]
     },
     "execution_count": 10,
     "metadata": {},
     "output_type": "execute_result"
    }
   ],
   "source": [
    "from nltk.corpus import wordnet\n",
    "def word(w):\n",
    "    try:\n",
    "        word = w\n",
    "        synsets=list\n",
    "        synsets=wordnet.synsets(w)\n",
    "        first_meaning=synsets[0]\n",
    "        meaning=first_meaning.definition()\n",
    "        return meaning\n",
    "    except:\n",
    "        return 'word does not exist'\n",
    "\n",
    "\n",
    "word('deborah')"
   ]
  },
  {
   "cell_type": "code",
   "execution_count": 22,
   "metadata": {
    "id": "OkWECzG_RnLg"
   },
   "outputs": [
    {
     "name": "stdout",
     "output_type": "stream",
     "text": [
      "not present\n"
     ]
    }
   ],
   "source": [
    "# checking if a word is present in the dictionary or not\n",
    "from nltk.corpus import wordnet\n",
    "\n",
    "word = 'deborah'\n",
    "if wordnet.synsets(word):\n",
    "  print(\"present\")\n",
    "else:\n",
    "  print(\"not present\")"
   ]
  },
  {
   "cell_type": "code",
   "execution_count": 51,
   "metadata": {},
   "outputs": [
    {
     "name": "stdout",
     "output_type": "stream",
     "text": [
      "Random word: scab\n"
     ]
    }
   ],
   "source": [
    "import nltk\n",
    "import random\n",
    "\n",
    "# Make sure you have the words corpus downloaded\n",
    "# nltk.download('words')\n",
    "\n",
    "from nltk.corpus import words\n",
    "\n",
    "# Get all words from the corpus\n",
    "word_list = words.words()\n",
    "\n",
    "# Pick one random word\n",
    "random_word = random.choice(word_list)\n",
    "print(\"Random word:\", random_word)\n",
    "\n",
    "# Pick multiple random words (e.g., 5)\n",
    "# random_words = random.sample(word_list, 5)\n",
    "# print(\"Random words:\", random_words)\n"
   ]
  }
 ],
 "metadata": {
  "colab": {
   "private_outputs": true,
   "provenance": []
  },
  "kernelspec": {
   "display_name": "Python 3 (ipykernel)",
   "language": "python",
   "name": "python3"
  },
  "language_info": {
   "codemirror_mode": {
    "name": "ipython",
    "version": 3
   },
   "file_extension": ".py",
   "mimetype": "text/x-python",
   "name": "python",
   "nbconvert_exporter": "python",
   "pygments_lexer": "ipython3",
   "version": "3.13.6"
  }
 },
 "nbformat": 4,
 "nbformat_minor": 4
}
